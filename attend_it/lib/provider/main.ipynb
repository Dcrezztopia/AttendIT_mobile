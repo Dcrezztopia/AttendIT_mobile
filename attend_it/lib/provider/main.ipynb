{
 "cells": [
  {
   "cell_type": "code",
   "execution_count": 4,
   "metadata": {},
   "outputs": [
    {
     "name": "stdout",
     "output_type": "stream",
     "text": [
      "Requirement already satisfied: fastapi in c:\\users\\dela farahita zein\\appdata\\local\\programs\\python\\python310\\lib\\site-packages (0.115.6)Note: you may need to restart the kernel to use updated packages.\n"
     ]
    },
    {
     "name": "stderr",
     "output_type": "stream",
     "text": [
      "WARNING: You are using pip version 21.2.3; however, version 24.3.1 is available.\n",
      "You should consider upgrading via the 'c:\\Users\\DELA FARAHITA ZEIN\\AppData\\Local\\Programs\\Python\\Python310\\python.exe -m pip install --upgrade pip' command.\n"
     ]
    },
    {
     "name": "stdout",
     "output_type": "stream",
     "text": [
      "\n",
      "Requirement already satisfied: typing-extensions>=4.8.0 in c:\\users\\dela farahita zein\\appdata\\local\\programs\\python\\python310\\lib\\site-packages (from fastapi) (4.12.2)\n",
      "Requirement already satisfied: starlette<0.42.0,>=0.40.0 in c:\\users\\dela farahita zein\\appdata\\local\\programs\\python\\python310\\lib\\site-packages (from fastapi) (0.41.3)\n",
      "Requirement already satisfied: pydantic!=1.8,!=1.8.1,!=2.0.0,!=2.0.1,!=2.1.0,<3.0.0,>=1.7.4 in c:\\users\\dela farahita zein\\appdata\\local\\programs\\python\\python310\\lib\\site-packages (from fastapi) (2.10.3)\n",
      "Requirement already satisfied: annotated-types>=0.6.0 in c:\\users\\dela farahita zein\\appdata\\local\\programs\\python\\python310\\lib\\site-packages (from pydantic!=1.8,!=1.8.1,!=2.0.0,!=2.0.1,!=2.1.0,<3.0.0,>=1.7.4->fastapi) (0.7.0)\n",
      "Requirement already satisfied: pydantic-core==2.27.1 in c:\\users\\dela farahita zein\\appdata\\local\\programs\\python\\python310\\lib\\site-packages (from pydantic!=1.8,!=1.8.1,!=2.0.0,!=2.0.1,!=2.1.0,<3.0.0,>=1.7.4->fastapi) (2.27.1)\n",
      "Requirement already satisfied: anyio<5,>=3.4.0 in c:\\users\\dela farahita zein\\appdata\\local\\programs\\python\\python310\\lib\\site-packages (from starlette<0.42.0,>=0.40.0->fastapi) (4.7.0)\n",
      "Requirement already satisfied: idna>=2.8 in c:\\users\\dela farahita zein\\appdata\\local\\programs\\python\\python310\\lib\\site-packages (from anyio<5,>=3.4.0->starlette<0.42.0,>=0.40.0->fastapi) (3.10)\n",
      "Requirement already satisfied: sniffio>=1.1 in c:\\users\\dela farahita zein\\appdata\\local\\programs\\python\\python310\\lib\\site-packages (from anyio<5,>=3.4.0->starlette<0.42.0,>=0.40.0->fastapi) (1.3.1)\n",
      "Requirement already satisfied: exceptiongroup>=1.0.2 in c:\\users\\dela farahita zein\\appdata\\local\\programs\\python\\python310\\lib\\site-packages (from anyio<5,>=3.4.0->starlette<0.42.0,>=0.40.0->fastapi) (1.2.2)\n"
     ]
    }
   ],
   "source": [
    "pip install fastapi"
   ]
  },
  {
   "cell_type": "code",
   "execution_count": 5,
   "metadata": {},
   "outputs": [
    {
     "name": "stdout",
     "output_type": "stream",
     "text": [
      "Requirement already satisfied: uvicorn[standard] in c:\\users\\dela farahita zein\\appdata\\local\\programs\\python\\python310\\lib\\site-packages (0.32.1)\n",
      "Requirement already satisfied: click>=7.0 in c:\\users\\dela farahita zein\\appdata\\local\\programs\\python\\python310\\lib\\site-packages (from uvicorn[standard]) (8.1.7)\n",
      "Requirement already satisfied: h11>=0.8 in c:\\users\\dela farahita zein\\appdata\\local\\programs\\python\\python310\\lib\\site-packages (from uvicorn[standard]) (0.14.0)\n",
      "Requirement already satisfied: typing-extensions>=4.0 in c:\\users\\dela farahita zein\\appdata\\local\\programs\\python\\python310\\lib\\site-packages (from uvicorn[standard]) (4.12.2)\n",
      "Collecting websockets>=10.4\n",
      "  Downloading websockets-14.1-cp310-cp310-win_amd64.whl (163 kB)\n",
      "Collecting pyyaml>=5.1\n",
      "  Downloading PyYAML-6.0.2-cp310-cp310-win_amd64.whl (161 kB)\n",
      "Collecting httptools>=0.6.3\n",
      "  Downloading httptools-0.6.4-cp310-cp310-win_amd64.whl (88 kB)\n",
      "Collecting python-dotenv>=0.13\n",
      "  Downloading python_dotenv-1.0.1-py3-none-any.whl (19 kB)\n",
      "Collecting watchfiles>=0.13\n",
      "  Downloading watchfiles-1.0.0-cp310-none-win_amd64.whl (285 kB)\n",
      "Requirement already satisfied: colorama>=0.4 in c:\\users\\dela farahita zein\\appdata\\local\\programs\\python\\python310\\lib\\site-packages (from uvicorn[standard]) (0.4.6)\n",
      "Requirement already satisfied: anyio>=3.0.0 in c:\\users\\dela farahita zein\\appdata\\local\\programs\\python\\python310\\lib\\site-packages (from watchfiles>=0.13->uvicorn[standard]) (4.7.0)\n",
      "Requirement already satisfied: idna>=2.8 in c:\\users\\dela farahita zein\\appdata\\local\\programs\\python\\python310\\lib\\site-packages (from anyio>=3.0.0->watchfiles>=0.13->uvicorn[standard]) (3.10)\n",
      "Requirement already satisfied: exceptiongroup>=1.0.2 in c:\\users\\dela farahita zein\\appdata\\local\\programs\\python\\python310\\lib\\site-packages (from anyio>=3.0.0->watchfiles>=0.13->uvicorn[standard]) (1.2.2)\n",
      "Requirement already satisfied: sniffio>=1.1 in c:\\users\\dela farahita zein\\appdata\\local\\programs\\python\\python310\\lib\\site-packages (from anyio>=3.0.0->watchfiles>=0.13->uvicorn[standard]) (1.3.1)\n",
      "Installing collected packages: websockets, watchfiles, pyyaml, python-dotenv, httptools\n",
      "Successfully installed httptools-0.6.4 python-dotenv-1.0.1 pyyaml-6.0.2 watchfiles-1.0.0 websockets-14.1\n",
      "Note: you may need to restart the kernel to use updated packages.\n"
     ]
    },
    {
     "name": "stderr",
     "output_type": "stream",
     "text": [
      "WARNING: You are using pip version 21.2.3; however, version 24.3.1 is available.\n",
      "You should consider upgrading via the 'c:\\Users\\DELA FARAHITA ZEIN\\AppData\\Local\\Programs\\Python\\Python310\\python.exe -m pip install --upgrade pip' command.\n"
     ]
    }
   ],
   "source": [
    "pip install \"uvicorn[standard]\""
   ]
  },
  {
   "cell_type": "code",
   "execution_count": 6,
   "metadata": {},
   "outputs": [
    {
     "name": "stdout",
     "output_type": "stream",
     "text": [
      "Collecting python-multipart\n",
      "  Using cached python_multipart-0.0.19-py3-none-any.whl (24 kB)\n",
      "Installing collected packages: python-multipart\n",
      "Successfully installed python-multipart-0.0.19\n",
      "Note: you may need to restart the kernel to use updated packages.\n"
     ]
    },
    {
     "name": "stderr",
     "output_type": "stream",
     "text": [
      "WARNING: You are using pip version 21.2.3; however, version 24.3.1 is available.\n",
      "You should consider upgrading via the 'c:\\Users\\DELA FARAHITA ZEIN\\AppData\\Local\\Programs\\Python\\Python310\\python.exe -m pip install --upgrade pip' command.\n"
     ]
    }
   ],
   "source": [
    "pip install python-multipart"
   ]
  },
  {
   "cell_type": "code",
   "execution_count": 7,
   "metadata": {},
   "outputs": [
    {
     "name": "stdout",
     "output_type": "stream",
     "text": [
      "Collecting opencv-python-headlessNote: you may need to restart the kernel to use updated packages.\n"
     ]
    },
    {
     "name": "stderr",
     "output_type": "stream",
     "text": [
      "WARNING: You are using pip version 21.2.3; however, version 24.3.1 is available.\n",
      "You should consider upgrading via the 'c:\\Users\\DELA FARAHITA ZEIN\\AppData\\Local\\Programs\\Python\\Python310\\python.exe -m pip install --upgrade pip' command.\n"
     ]
    },
    {
     "name": "stdout",
     "output_type": "stream",
     "text": [
      "\n",
      "  Using cached opencv_python_headless-4.10.0.84-cp37-abi3-win_amd64.whl (38.8 MB)\n",
      "Requirement already satisfied: numpy>=1.21.2 in c:\\users\\dela farahita zein\\appdata\\local\\programs\\python\\python310\\lib\\site-packages (from opencv-python-headless) (2.0.2)\n",
      "Installing collected packages: opencv-python-headless\n",
      "Successfully installed opencv-python-headless-4.10.0.84\n"
     ]
    }
   ],
   "source": [
    "pip install opencv-python-headless"
   ]
  },
  {
   "cell_type": "code",
   "execution_count": 9,
   "metadata": {},
   "outputs": [
    {
     "name": "stdout",
     "output_type": "stream",
     "text": [
      "Collecting opencv-contrib-python\n",
      "  Using cached opencv_contrib_python-4.10.0.84-cp37-abi3-win_amd64.whl (45.5 MB)\n",
      "Requirement already satisfied: numpy>=1.19.3 in c:\\users\\dela farahita zein\\appdata\\local\\programs\\python\\python310\\lib\\site-packages (from opencv-contrib-python) (2.0.2)\n",
      "Installing collected packages: opencv-contrib-python\n",
      "Note: you may need to restart the kernel to use updated packages.\n"
     ]
    },
    {
     "name": "stderr",
     "output_type": "stream",
     "text": [
      "ERROR: Could not install packages due to an OSError: [WinError 5] Access is denied: 'c:\\\\Users\\\\DELA FARAHITA ZEIN\\\\AppData\\\\Local\\\\Programs\\\\Python\\\\Python310\\\\Lib\\\\site-packages\\\\cv2\\\\cv2.pyd'\n",
      "Consider using the `--user` option or check the permissions.\n",
      "\n",
      "WARNING: You are using pip version 21.2.3; however, version 24.3.1 is available.\n",
      "You should consider upgrading via the 'c:\\Users\\DELA FARAHITA ZEIN\\AppData\\Local\\Programs\\Python\\Python310\\python.exe -m pip install --upgrade pip' command.\n"
     ]
    }
   ],
   "source": [
    "pip install opencv-contrib-python\n"
   ]
  },
  {
   "cell_type": "code",
   "execution_count": 13,
   "metadata": {},
   "outputs": [
    {
     "name": "stdout",
     "output_type": "stream",
     "text": [
      "Note: you may need to restart the kernel to use updated packages.\n"
     ]
    },
    {
     "name": "stderr",
     "output_type": "stream",
     "text": [
      "WARNING: Skipping opencv-python as it is not installed.\n",
      "WARNING: Skipping opencv-contrib-python as it is not installed.\n"
     ]
    }
   ],
   "source": [
    "pip uninstall opencv-python opencv-contrib-python\n"
   ]
  },
  {
   "cell_type": "code",
   "execution_count": 14,
   "metadata": {},
   "outputs": [
    {
     "name": "stdout",
     "output_type": "stream",
     "text": [
      "Collecting opencv-contrib-python==4.5.5.64\n",
      "  Downloading opencv_contrib_python-4.5.5.64-cp36-abi3-win_amd64.whl (42.2 MB)\n",
      "Requirement already satisfied: numpy>=1.17.3 in c:\\users\\dela farahita zein\\appdata\\local\\programs\\python\\python310\\lib\\site-packages (from opencv-contrib-python==4.5.5.64) (2.0.2)\n",
      "Installing collected packages: opencv-contrib-python\n",
      "Note: you may need to restart the kernel to use updated packages.\n"
     ]
    },
    {
     "name": "stderr",
     "output_type": "stream",
     "text": [
      "ERROR: Could not install packages due to an OSError: [WinError 5] Access is denied: 'c:\\\\Users\\\\DELA FARAHITA ZEIN\\\\AppData\\\\Local\\\\Programs\\\\Python\\\\Python310\\\\Lib\\\\site-packages\\\\cv2\\\\cv2.pyd'\n",
      "Consider using the `--user` option or check the permissions.\n",
      "\n",
      "WARNING: You are using pip version 21.2.3; however, version 24.3.1 is available.\n",
      "You should consider upgrading via the 'c:\\Users\\DELA FARAHITA ZEIN\\AppData\\Local\\Programs\\Python\\Python310\\python.exe -m pip install --upgrade pip' command.\n"
     ]
    }
   ],
   "source": [
    "pip install opencv-contrib-python==4.5.5.64\n"
   ]
  },
  {
   "cell_type": "code",
   "execution_count": 16,
   "metadata": {},
   "outputs": [
    {
     "name": "stdout",
     "output_type": "stream",
     "text": [
      "Collecting dlib\n",
      "  Downloading dlib-19.24.6.tar.gz (3.4 MB)\n",
      "Collecting face_recognition\n",
      "  Downloading face_recognition-1.3.0-py2.py3-none-any.whl (15 kB)\n",
      "Requirement already satisfied: Pillow in c:\\users\\dela farahita zein\\appdata\\local\\programs\\python\\python310\\lib\\site-packages (from face_recognition) (11.0.0)\n",
      "Requirement already satisfied: Click>=6.0 in c:\\users\\dela farahita zein\\appdata\\local\\programs\\python\\python310\\lib\\site-packages (from face_recognition) (8.1.7)\n",
      "Collecting face-recognition-models>=0.3.0\n",
      "  Downloading face_recognition_models-0.3.0.tar.gz (100.1 MB)\n",
      "Requirement already satisfied: numpy in c:\\users\\dela farahita zein\\appdata\\local\\programs\\python\\python310\\lib\\site-packages (from face_recognition) (2.0.2)\n",
      "Requirement already satisfied: colorama in c:\\users\\dela farahita zein\\appdata\\local\\programs\\python\\python310\\lib\\site-packages (from Click>=6.0->face_recognition) (0.4.6)\n",
      "Building wheels for collected packages: dlib, face-recognition-models\n",
      "  Building wheel for dlib (setup.py): started\n",
      "  Building wheel for dlib (setup.py): finished with status 'error'\n",
      "  Running setup.py clean for dlib\n",
      "  Building wheel for face-recognition-models (setup.py): started\n",
      "  Building wheel for face-recognition-models (setup.py): finished with status 'done'\n",
      "  Created wheel for face-recognition-models: filename=face_recognition_models-0.3.0-py2.py3-none-any.whl size=100566199 sha256=edecfe02c2d3a4e4ecb39577394b382369cb1cff3839b09a09d5301615b8b85e\n",
      "  Stored in directory: c:\\users\\dela farahita zein\\appdata\\local\\pip\\cache\\wheels\\7a\\eb\\cf\\e9eced74122b679557f597bb7c8e4c739cfcac526db1fd523d\n",
      "Successfully built face-recognition-models\n",
      "Failed to build dlib\n",
      "Installing collected packages: face-recognition-models, dlib, face-recognition\n",
      "    Running setup.py install for dlib: started\n",
      "    Running setup.py install for dlib: finished with status 'error'\n",
      "Note: you may need to restart the kernel to use updated packages.\n"
     ]
    },
    {
     "name": "stderr",
     "output_type": "stream",
     "text": [
      "  ERROR: Command errored out with exit status 1:\n",
      "   command: 'c:\\Users\\DELA FARAHITA ZEIN\\AppData\\Local\\Programs\\Python\\Python310\\python.exe' -u -c 'import io, os, sys, setuptools, tokenize; sys.argv[0] = '\"'\"'C:\\\\Users\\\\DELA FARAHITA ZEIN\\\\AppData\\\\Local\\\\Temp\\\\pip-install-6qa9mths\\\\dlib_28a3b8efc403422a96c70b3f20caa3db\\\\setup.py'\"'\"'; __file__='\"'\"'C:\\\\Users\\\\DELA FARAHITA ZEIN\\\\AppData\\\\Local\\\\Temp\\\\pip-install-6qa9mths\\\\dlib_28a3b8efc403422a96c70b3f20caa3db\\\\setup.py'\"'\"';f = getattr(tokenize, '\"'\"'open'\"'\"', open)(__file__) if os.path.exists(__file__) else io.StringIO('\"'\"'from setuptools import setup; setup()'\"'\"');code = f.read().replace('\"'\"'\\r\\n'\"'\"', '\"'\"'\\n'\"'\"');f.close();exec(compile(code, __file__, '\"'\"'exec'\"'\"'))' bdist_wheel -d 'C:\\Users\\DELA FARAHITA ZEIN\\AppData\\Local\\Temp\\pip-wheel-t1ib9wq5'\n",
      "       cwd: C:\\Users\\DELA FARAHITA ZEIN\\AppData\\Local\\Temp\\pip-install-6qa9mths\\dlib_28a3b8efc403422a96c70b3f20caa3db\\\n",
      "  Complete output (41 lines):\n",
      "  running bdist_wheel\n",
      "  running build\n",
      "  running build_ext\n",
      "  \n",
      "  ================================================================================\n",
      "  ================================================================================\n",
      "  ================================================================================\n",
      "  \n",
      "                     CMake is not installed on your system!\n",
      "  \n",
      "      Or it is possible some broken copy of cmake is installed on your system.\n",
      "      It is unfortunately very common for python package managers to include\n",
      "      broken copies of cmake.  So if the error above this refers to some file\n",
      "      path to a cmake file inside a python or anaconda or miniconda path then you\n",
      "      should delete that broken copy of cmake from your computer.\n",
      "  \n",
      "      Instead, please get an official copy of cmake from one of these known good\n",
      "      sources of an official cmake:\n",
      "          - cmake.org (this is how windows users should get cmake)\n",
      "          - apt install cmake (for Ubuntu or Debian based systems)\n",
      "          - yum install cmake (for Redhat or CenOS based systems)\n",
      "  \n",
      "      On a linux machine you can run `which cmake` to see what cmake you are\n",
      "      actually using.  If it tells you it's some cmake from any kind of python\n",
      "      packager delete it and install an official cmake.\n",
      "  \n",
      "      More generally, cmake is not installed if when you open a terminal window\n",
      "      and type\n",
      "         cmake --version\n",
      "      you get an error.  So you can use that as a very basic test to see if you\n",
      "      have cmake installed.  That is, if cmake --version doesn't run from the\n",
      "      same terminal window from which you are reading this error message, then\n",
      "      you have not installed cmake.  Windows users should take note that they\n",
      "      need to tell the cmake installer to add cmake to their PATH.  Since you\n",
      "      can't run commands that are not in your PATH.  This is how the PATH works\n",
      "      on Linux as well, but failing to add cmake to the PATH is a particularly\n",
      "      common problem on windows and rarely a problem on Linux.\n",
      "  \n",
      "  ================================================================================\n",
      "  ================================================================================\n",
      "  ================================================================================\n",
      "  ----------------------------------------\n",
      "  ERROR: Failed building wheel for dlib\n",
      "    ERROR: Command errored out with exit status 1:\n",
      "     command: 'c:\\Users\\DELA FARAHITA ZEIN\\AppData\\Local\\Programs\\Python\\Python310\\python.exe' -u -c 'import io, os, sys, setuptools, tokenize; sys.argv[0] = '\"'\"'C:\\\\Users\\\\DELA FARAHITA ZEIN\\\\AppData\\\\Local\\\\Temp\\\\pip-install-6qa9mths\\\\dlib_28a3b8efc403422a96c70b3f20caa3db\\\\setup.py'\"'\"'; __file__='\"'\"'C:\\\\Users\\\\DELA FARAHITA ZEIN\\\\AppData\\\\Local\\\\Temp\\\\pip-install-6qa9mths\\\\dlib_28a3b8efc403422a96c70b3f20caa3db\\\\setup.py'\"'\"';f = getattr(tokenize, '\"'\"'open'\"'\"', open)(__file__) if os.path.exists(__file__) else io.StringIO('\"'\"'from setuptools import setup; setup()'\"'\"');code = f.read().replace('\"'\"'\\r\\n'\"'\"', '\"'\"'\\n'\"'\"');f.close();exec(compile(code, __file__, '\"'\"'exec'\"'\"'))' install --record 'C:\\Users\\DELA FARAHITA ZEIN\\AppData\\Local\\Temp\\pip-record-75hewwzh\\install-record.txt' --single-version-externally-managed --compile --install-headers 'c:\\Users\\DELA FARAHITA ZEIN\\AppData\\Local\\Programs\\Python\\Python310\\Include\\dlib'\n",
      "         cwd: C:\\Users\\DELA FARAHITA ZEIN\\AppData\\Local\\Temp\\pip-install-6qa9mths\\dlib_28a3b8efc403422a96c70b3f20caa3db\\\n",
      "    Complete output (41 lines):\n",
      "    running install\n",
      "    running build\n",
      "    running build_ext\n",
      "    \n",
      "    ================================================================================\n",
      "    ================================================================================\n",
      "    ================================================================================\n",
      "    \n",
      "                       CMake is not installed on your system!\n",
      "    \n",
      "        Or it is possible some broken copy of cmake is installed on your system.\n",
      "        It is unfortunately very common for python package managers to include\n",
      "        broken copies of cmake.  So if the error above this refers to some file\n",
      "        path to a cmake file inside a python or anaconda or miniconda path then you\n",
      "        should delete that broken copy of cmake from your computer.\n",
      "    \n",
      "        Instead, please get an official copy of cmake from one of these known good\n",
      "        sources of an official cmake:\n",
      "            - cmake.org (this is how windows users should get cmake)\n",
      "            - apt install cmake (for Ubuntu or Debian based systems)\n",
      "            - yum install cmake (for Redhat or CenOS based systems)\n",
      "    \n",
      "        On a linux machine you can run `which cmake` to see what cmake you are\n",
      "        actually using.  If it tells you it's some cmake from any kind of python\n",
      "        packager delete it and install an official cmake.\n",
      "    \n",
      "        More generally, cmake is not installed if when you open a terminal window\n",
      "        and type\n",
      "           cmake --version\n",
      "        you get an error.  So you can use that as a very basic test to see if you\n",
      "        have cmake installed.  That is, if cmake --version doesn't run from the\n",
      "        same terminal window from which you are reading this error message, then\n",
      "        you have not installed cmake.  Windows users should take note that they\n",
      "        need to tell the cmake installer to add cmake to their PATH.  Since you\n",
      "        can't run commands that are not in your PATH.  This is how the PATH works\n",
      "        on Linux as well, but failing to add cmake to the PATH is a particularly\n",
      "        common problem on windows and rarely a problem on Linux.\n",
      "    \n",
      "    ================================================================================\n",
      "    ================================================================================\n",
      "    ================================================================================\n",
      "    ----------------------------------------\n",
      "ERROR: Command errored out with exit status 1: 'c:\\Users\\DELA FARAHITA ZEIN\\AppData\\Local\\Programs\\Python\\Python310\\python.exe' -u -c 'import io, os, sys, setuptools, tokenize; sys.argv[0] = '\"'\"'C:\\\\Users\\\\DELA FARAHITA ZEIN\\\\AppData\\\\Local\\\\Temp\\\\pip-install-6qa9mths\\\\dlib_28a3b8efc403422a96c70b3f20caa3db\\\\setup.py'\"'\"'; __file__='\"'\"'C:\\\\Users\\\\DELA FARAHITA ZEIN\\\\AppData\\\\Local\\\\Temp\\\\pip-install-6qa9mths\\\\dlib_28a3b8efc403422a96c70b3f20caa3db\\\\setup.py'\"'\"';f = getattr(tokenize, '\"'\"'open'\"'\"', open)(__file__) if os.path.exists(__file__) else io.StringIO('\"'\"'from setuptools import setup; setup()'\"'\"');code = f.read().replace('\"'\"'\\r\\n'\"'\"', '\"'\"'\\n'\"'\"');f.close();exec(compile(code, __file__, '\"'\"'exec'\"'\"'))' install --record 'C:\\Users\\DELA FARAHITA ZEIN\\AppData\\Local\\Temp\\pip-record-75hewwzh\\install-record.txt' --single-version-externally-managed --compile --install-headers 'c:\\Users\\DELA FARAHITA ZEIN\\AppData\\Local\\Programs\\Python\\Python310\\Include\\dlib' Check the logs for full command output.\n",
      "WARNING: You are using pip version 21.2.3; however, version 24.3.1 is available.\n",
      "You should consider upgrading via the 'c:\\Users\\DELA FARAHITA ZEIN\\AppData\\Local\\Programs\\Python\\Python310\\python.exe -m pip install --upgrade pip' command.\n"
     ]
    }
   ],
   "source": [
    "pip install dlib face_recognition"
   ]
  },
  {
   "cell_type": "code",
   "execution_count": 18,
   "metadata": {},
   "outputs": [
    {
     "ename": "AttributeError",
     "evalue": "module 'cv2' has no attribute 'face'",
     "output_type": "error",
     "traceback": [
      "\u001b[1;31m---------------------------------------------------------------------------\u001b[0m",
      "\u001b[1;31mAttributeError\u001b[0m                            Traceback (most recent call last)",
      "Cell \u001b[1;32mIn[18], line 15\u001b[0m\n\u001b[0;32m     12\u001b[0m face_cascade \u001b[38;5;241m=\u001b[39m cv2\u001b[38;5;241m.\u001b[39mCascadeClassifier(\u001b[38;5;124m'\u001b[39m\u001b[38;5;124mhaarcascades/haarcascade_frontalface_default.xml\u001b[39m\u001b[38;5;124m'\u001b[39m)\n\u001b[0;32m     14\u001b[0m \u001b[38;5;66;03m# Load pre-trained face recognition model\u001b[39;00m\n\u001b[1;32m---> 15\u001b[0m model \u001b[38;5;241m=\u001b[39m \u001b[43mcv2\u001b[49m\u001b[38;5;241;43m.\u001b[39;49m\u001b[43mface\u001b[49m\u001b[38;5;241m.\u001b[39mLBPHFaceRecognizer_create()\n\u001b[0;32m     16\u001b[0m model\u001b[38;5;241m.\u001b[39mread(\u001b[38;5;124m\"\u001b[39m\u001b[38;5;124mlbph_model.yml\u001b[39m\u001b[38;5;124m\"\u001b[39m)\n\u001b[0;32m     18\u001b[0m \u001b[38;5;66;03m# Load labels\u001b[39;00m\n\u001b[0;32m     19\u001b[0m \u001b[38;5;66;03m# labels = [\"Dela\", \"Kinata\", \"Mulki\", \"Pascalis\"]  \u001b[39;00m\n",
      "\u001b[1;31mAttributeError\u001b[0m: module 'cv2' has no attribute 'face'"
     ]
    }
   ],
   "source": [
    "import os\n",
    "import cv2\n",
    "import numpy as np\n",
    "from fastapi import FastAPI, UploadFile, File\n",
    "from fastapi.responses import JSONResponse\n",
    "import tempfile\n",
    "import shutil\n",
    "\n",
    "app = FastAPI()\n",
    "\n",
    "# Load Haar Cascade Classifier\n",
    "face_cascade = cv2.CascadeClassifier('haarcascades/haarcascade_frontalface_default.xml')\n",
    "\n",
    "# Load pre-trained face recognition model\n",
    "model = cv2.face.LBPHFaceRecognizer_create()\n",
    "model.read(\"lbph_model.yml\")\n",
    "\n",
    "# Load labels\n",
    "# labels = [\"Dela\", \"Kinata\", \"Mulki\", \"Pascalis\"]  \n",
    "labels = [\"Colin_Powell\", \"Donald_Rumsfeld\", \"George_W_Bush\", \"Gerhard_Schroeder\", \"Tony_Blair\"]  \n",
    "\n",
    "def detect_face(img):\n",
    "    \"\"\"\n",
    "    Detect and crop face from an image\n",
    "    \n",
    "    Args:\n",
    "        img (numpy.ndarray): Input image\n",
    "    \n",
    "    Returns:\n",
    "        numpy.ndarray or None: Processed face image\n",
    "    \"\"\"\n",
    "    # Convert to grayscale\n",
    "    gray = cv2.cvtColor(img, cv2.COLOR_BGR2GRAY)\n",
    "    \n",
    "    # Detect faces\n",
    "    faces = face_cascade.detectMultiScale(gray, 1.3, 5)\n",
    "    \n",
    "    # If no face found, return None\n",
    "    if len(faces) == 0:\n",
    "        return None\n",
    "    \n",
    "    # Take the first detected face\n",
    "    x, y, w, h = faces[0]\n",
    "    \n",
    "    # Crop and resize the face\n",
    "    face_img = gray[y:y+h, x:x+w]\n",
    "    face_img = cv2.resize(face_img, (100, 100))\n",
    "    \n",
    "    return face_img\n",
    "\n",
    "@app.post(\"/recognize/\")\n",
    "async def recognize_face(file: UploadFile = File(...)):\n",
    "    try:\n",
    "        # Create a temporary file to save the uploaded image\n",
    "        with tempfile.NamedTemporaryFile(delete=False, suffix=\".jpg\") as temp_file:\n",
    "            shutil.copyfileobj(file.file, temp_file)\n",
    "            temp_file_path = temp_file.name\n",
    "        \n",
    "        # Read the image\n",
    "        img = cv2.imread(temp_file_path)\n",
    "        \n",
    "        # Remove the temporary file\n",
    "        os.unlink(temp_file_path)\n",
    "        \n",
    "        # Detect and preprocess face\n",
    "        face_img = detect_face(img)\n",
    "        \n",
    "        # If no face detected\n",
    "        if face_img is None:\n",
    "            return JSONResponse(content={\n",
    "                \"error\": \"No face detected in the image\"\n",
    "            }, status_code=400)\n",
    "        \n",
    "        # Predict using the model\n",
    "        idx, confidence = model.predict(face_img)\n",
    "        \n",
    "        # Return prediction results\n",
    "        return JSONResponse(content={\n",
    "            \"predicted_name\": labels[idx],\n",
    "            \"confidence\": float(confidence)\n",
    "        })\n",
    "    \n",
    "    except Exception as e:\n",
    "        return JSONResponse(content={\n",
    "            \"error\": str(e)\n",
    "        }, status_code=500)\n",
    "\n",
    "# Optional: Health check endpoint\n",
    "@app.get(\"/\")\n",
    "async def health_check():\n",
    "    return {\"status\": \"Face Recognition API is running\"}"
   ]
  },
  {
   "cell_type": "code",
   "execution_count": 20,
   "metadata": {},
   "outputs": [],
   "source": [
    "import cv2\n",
    "import numpy as np\n",
    "from fastapi import FastAPI, UploadFile, File\n",
    "from fastapi.responses import JSONResponse\n",
    "import tempfile\n",
    "import shutil\n",
    "\n",
    "app = FastAPI()\n",
    "\n",
    "# Load Haar Cascade Classifier\n",
    "face_cascade = cv2.CascadeClassifier(cv2.data.haarcascades + 'haarcascade_frontalface_default.xml')\n",
    "\n",
    "# Daftar label yang dikenal\n",
    "labels = [\"Colin_Powell\", \"Donald_Rumsfeld\", \"George_W_Bush\", \"Gerhard_Schroeder\", \"Tony_Blair\"]\n",
    "\n",
    "def detect_face(img):\n",
    "    \"\"\"\n",
    "    Deteksi dan crop wajah dari gambar\n",
    "    \"\"\"\n",
    "    # Konversi ke grayscale\n",
    "    gray = cv2.cvtColor(img, cv2.COLOR_BGR2GRAY)\n",
    "    \n",
    "    # Deteksi wajah\n",
    "    faces = face_cascade.detectMultiScale(gray, 1.3, 5)\n",
    "    \n",
    "    # Jika tidak ada wajah, kembalikan None\n",
    "    if len(faces) == 0:\n",
    "        return None\n",
    "    \n",
    "    # Ambil wajah pertama\n",
    "    x, y, w, h = faces[0]\n",
    "    \n",
    "    # Crop dan resize wajah\n",
    "    face_img = gray[y:y+h, x:x+w]\n",
    "    face_img = cv2.resize(face_img, (100, 100))\n",
    "    \n",
    "    return face_img\n",
    "\n",
    "@app.post(\"/recognize/\")\n",
    "async def recognize_face(file: UploadFile = File(...)):\n",
    "    try:\n",
    "        # Buat file sementara\n",
    "        with tempfile.NamedTemporaryFile(delete=False, suffix=\".jpg\") as temp_file:\n",
    "            shutil.copyfileobj(file.file, temp_file)\n",
    "            temp_file_path = temp_file.name\n",
    "        \n",
    "        # Baca gambar\n",
    "        img = cv2.imread(temp_file_path)\n",
    "        \n",
    "        # Hapus file sementara\n",
    "        os.unlink(temp_file_path)\n",
    "        \n",
    "        # Deteksi wajah\n",
    "        face_img = detect_face(img)\n",
    "        \n",
    "        # Jika tidak ada wajah terdeteksi\n",
    "        if face_img is None:\n",
    "            return JSONResponse(content={\n",
    "                \"error\": \"Tidak ada wajah terdeteksi\"\n",
    "            }, status_code=400)\n",
    "        \n",
    "        # Simulasi prediksi (ganti dengan model sebenarnya)\n",
    "        return JSONResponse(content={\n",
    "            \"predicted_name\": labels[0],  # Contoh: selalu kembalikan label pertama\n",
    "            \"confidence\": 70.0\n",
    "        })\n",
    "    \n",
    "    except Exception as e:\n",
    "        return JSONResponse(content={\n",
    "            \"error\": str(e)\n",
    "        }, status_code=500)\n",
    "\n",
    "@app.get(\"/\")\n",
    "async def health_check():\n",
    "    return {\"status\": \"Face Recognition API is running\"}"
   ]
  },
  {
   "cell_type": "code",
   "execution_count": 21,
   "metadata": {},
   "outputs": [],
   "source": [
    "from fastapi import FastAPI, UploadFile, File\n",
    "import cv2\n",
    "import numpy as np\n",
    "import os\n",
    "import tempfile\n",
    "import shutil\n",
    "\n",
    "app = FastAPI()\n",
    "\n",
    "# Load Haar Cascade Classifier\n",
    "face_cascade = cv2.CascadeClassifier(cv2.data.haarcascades + 'haarcascade_frontalface_default.xml')\n",
    "\n",
    "# Daftar label yang dikenal\n",
    "labels = [\"Colin_Powell\", \"Donald_Rumsfeld\", \"George_W_Bush\", \"Gerhard_Schroeder\", \"Tony_Blair\"]\n",
    "\n",
    "def detect_face(img):\n",
    "    \"\"\"\n",
    "    Deteksi dan crop wajah dari gambar\n",
    "    \"\"\"\n",
    "    # Konversi ke grayscale\n",
    "    gray = cv2.cvtColor(img, cv2.COLOR_BGR2GRAY)\n",
    "    \n",
    "    # Deteksi wajah\n",
    "    faces = face_cascade.detectMultiScale(gray, 1.3, 5)\n",
    "    \n",
    "    # Jika tidak ada wajah, kembalikan None\n",
    "    if len(faces) == 0:\n",
    "        return None\n",
    "    \n",
    "    # Ambil wajah pertama\n",
    "    x, y, w, h = faces[0]\n",
    "    \n",
    "    # Crop dan resize wajah\n",
    "    face_img = gray[y:y+h, x:x+w]\n",
    "    face_img = cv2.resize(face_img, (100, 100))\n",
    "    \n",
    "    return face_img\n",
    "\n",
    "@app.post(\"/recognize/\")\n",
    "async def recognize_face(file: UploadFile = File(...)):\n",
    "    try:\n",
    "        # Buat file sementara\n",
    "        with tempfile.NamedTemporaryFile(delete=False, suffix=\".jpg\") as temp_file:\n",
    "            shutil.copyfileobj(file.file, temp_file)\n",
    "            temp_file_path = temp_file.name\n",
    "        \n",
    "        # Baca gambar\n",
    "        img = cv2.imread(temp_file_path)\n",
    "        \n",
    "        # Hapus file sementara\n",
    "        os.unlink(temp_file_path)\n",
    "        \n",
    "        # Deteksi wajah\n",
    "        face_img = detect_face(img)\n",
    "        \n",
    "        # Jika tidak ada wajah terdeteksi\n",
    "        if face_img is None:\n",
    "            return {\n",
    "                \"error\": \"Tidak ada wajah terdeteksi\"\n",
    "            }\n",
    "        \n",
    "        # Simulasi prediksi (ganti dengan model sebenarnya)\n",
    "        return {\n",
    "            \"predicted_name\": labels[0],  # Contoh: selalu kembalikan label pertama\n",
    "            \"confidence\": 70.0\n",
    "        }\n",
    "    \n",
    "    except Exception as e:\n",
    "        return {\n",
    "            \"error\": str(e)\n",
    "        }\n",
    "\n",
    "@app.get(\"/\")\n",
    "async def health_check():\n",
    "    return {\"status\": \"Face Recognition API is running\"}"
   ]
  }
 ],
 "metadata": {
  "kernelspec": {
   "display_name": "Python 3",
   "language": "python",
   "name": "python3"
  },
  "language_info": {
   "codemirror_mode": {
    "name": "ipython",
    "version": 3
   },
   "file_extension": ".py",
   "mimetype": "text/x-python",
   "name": "python",
   "nbconvert_exporter": "python",
   "pygments_lexer": "ipython3",
   "version": "3.10.0"
  }
 },
 "nbformat": 4,
 "nbformat_minor": 2
}
